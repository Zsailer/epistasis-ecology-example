{
 "cells": [
  {
   "cell_type": "markdown",
   "metadata": {},
   "source": [
    "# Ecological example of high-order \"epistasis\""
   ]
  },
  {
   "cell_type": "markdown",
   "metadata": {},
   "source": [
    "Imports for the notebook below."
   ]
  },
  {
   "cell_type": "code",
   "execution_count": 1,
   "metadata": {},
   "outputs": [],
   "source": [
    "%matplotlib inline\n",
    "\n",
    "import matplotlib.pyplot as plt\n",
    "import numpy as np\n",
    "\n",
    "from gpmap.utils import mutations_to_genotypes\n",
    "\n",
    "from gpmap import GenotypePhenotypeMap\n",
    "\n",
    "from epistasis.matrix import get_model_matrix\n",
    "from epistasis.models import EpistasisLinearRegression\n",
    "from epistasis.pyplot import plot_coefs"
   ]
  },
  {
   "cell_type": "markdown",
   "metadata": {},
   "source": [
    "$$\n",
    "F_{total} = \\text{community phenotype (total metabolism?)} \\\\\n",
    "s_{i} = species_{i} \\\\\n",
    "$$\n",
    "\n",
    "$$\n",
    "\\alpha_{i} = \\text{metabolic rate of species i on resource A} \\\\ \n",
    "\\beta_{i} = \\text{metabolic rate of species i on resource B} \\\\ \n",
    "\\gamma_{i} = \\text{metabolic rate of species i on resource C} \\\\ \n",
    "$$\n",
    "\n",
    "$$\n",
    "F_{A} = \\text{community phenotype for resource A (total metabolism of resource A)} \\\\\n",
    "F_{B} = \\text{community phenotype for resource B (total metabolism of resource B)} \\\\\n",
    "F_{C} = \\text{community phenotype for resource C (total metabolism of resource C)} \\\\\n",
    "$$\n",
    "\n",
    "Model the total phenotype as the expected value from an average of individual phenotypes for each resource--Something like a free energy. \n",
    "$$\n",
    "F_{total} = -ln \\left( \\frac{P(\\text{A})}{P(\\text{Not A})} \\right)\n",
    "$$\n",
    "\n",
    "If we treat the probability distribution of the states as a Boltzmann distribution, we get: \n",
    "\n",
    "$$\n",
    "F_{total} = -ln \\left( \\frac{e^{-F_A}}{e^{-F_B} + e^{-F_C} } \\right)\n",
    "$$\n",
    "\n",
    "which reduces to:\n",
    "$$\n",
    "F_{total} = F_{A} + ln(F_{B} + F_{C})\n",
    "$$\n",
    "\n",
    "The log term is clearly additive. So, if our observed phenotypes truly is a average over a bunch of states, we should expect to observe high-order epistasis.\n",
    "\n",
    "Let's simulate this scenario."
   ]
  },
  {
   "cell_type": "code",
   "execution_count": 205,
   "metadata": {},
   "outputs": [],
   "source": [
    "n_species = 5\n",
    "\n",
    "# Define metabolic rates for each species in each state (3-states total).\n",
    "alpha = np.random.rand(n_species)\n",
    "beta = np.random.rand(n_species) * 10\n",
    "gamma = np.random.rand(n_species) * 1"
   ]
  },
  {
   "cell_type": "markdown",
   "metadata": {},
   "source": [
    "We'll construct a list of possible communities and a community matrix."
   ]
  },
  {
   "cell_type": "code",
   "execution_count": 206,
   "metadata": {},
   "outputs": [
    {
     "name": "stdout",
     "output_type": "stream",
     "text": [
      "community list:\n",
      "['00000', '00001', '00010', '00011', '00100', '00101', '00110', '00111', '01000', '01001', '01010', '01011', '01100', '01101', '01110', '01111', '10000', '10001', '10010', '10011', '10100', '10101', '10110', '10111', '11000', '11001', '11010', '11011', '11100', '11101', '11110', '11111']\n",
      "\n",
      "community matrix: \n",
      "[[0 0 0 0 0]\n",
      " [0 0 0 0 1]\n",
      " [0 0 0 1 0]\n",
      " [0 0 0 1 1]\n",
      " [0 0 1 0 0]\n",
      " [0 0 1 0 1]\n",
      " [0 0 1 1 0]\n",
      " [0 0 1 1 1]\n",
      " [0 1 0 0 0]\n",
      " [0 1 0 0 1]\n",
      " [0 1 0 1 0]\n",
      " [0 1 0 1 1]\n",
      " [0 1 1 0 0]\n",
      " [0 1 1 0 1]\n",
      " [0 1 1 1 0]\n",
      " [0 1 1 1 1]\n",
      " [1 0 0 0 0]\n",
      " [1 0 0 0 1]\n",
      " [1 0 0 1 0]\n",
      " [1 0 0 1 1]\n",
      " [1 0 1 0 0]\n",
      " [1 0 1 0 1]\n",
      " [1 0 1 1 0]\n",
      " [1 0 1 1 1]\n",
      " [1 1 0 0 0]\n",
      " [1 1 0 0 1]\n",
      " [1 1 0 1 0]\n",
      " [1 1 0 1 1]\n",
      " [1 1 1 0 0]\n",
      " [1 1 1 0 1]\n",
      " [1 1 1 1 0]\n",
      " [1 1 1 1 1]]\n"
     ]
    }
   ],
   "source": [
    "# Book-keeping code.\n",
    "no_communities = '0'*n_species\n",
    "species = {i: ['0', '1'] for i in range(n_species)}\n",
    "\n",
    "# Enumerate all possible communities.\n",
    "communities = mutations_to_genotypes(no_communities, species)\n",
    "\n",
    "# Construct a \"community\" matrix: 0 if microbe is present in community, 1 if not.\n",
    "coefs = [[i] for i in range(1, n_species+1)]\n",
    "community_matrix = get_model_matrix(communities, coefs, model_type='local')\n",
    "\n",
    "print(\"community list:\")\n",
    "print(communities)\n",
    "print(\"\")\n",
    "print(\"community matrix: \")\n",
    "print(community_matrix)"
   ]
  },
  {
   "cell_type": "markdown",
   "metadata": {},
   "source": [
    "Calculate phenotypes for each community and resource. \n",
    "\n",
    "Then calculate the total phenotype as the average of states."
   ]
  },
  {
   "cell_type": "code",
   "execution_count": 207,
   "metadata": {},
   "outputs": [],
   "source": [
    "# Simple dot product of matrix and metabolic rates.\n",
    "F_A = community_matrix @ alpha\n",
    "F_B = community_matrix @ beta\n",
    "F_C = community_matrix @ gamma\n",
    "\n",
    "# Probability of each state (boltzmann distributed).\n",
    "P_A = np.exp(-F_A)\n",
    "P_B = np.exp(-F_B)\n",
    "P_C = np.exp(-F_C)\n",
    "\n",
    "# Total phenotype.\n",
    "F_total = np.log(P_A /(P_B + P_C))"
   ]
  },
  {
   "cell_type": "markdown",
   "metadata": {},
   "source": [
    "Construct a useful mapping object to be used by epistasis model."
   ]
  },
  {
   "cell_type": "code",
   "execution_count": 208,
   "metadata": {},
   "outputs": [],
   "source": [
    "gpm = GenotypePhenotypeMap(\n",
    "    wildtype = no_communities,\n",
    "    genotypes = communities,\n",
    "    phenotypes = F_total,\n",
    "    mutations = species,\n",
    ")"
   ]
  },
  {
   "cell_type": "code",
   "execution_count": 211,
   "metadata": {},
   "outputs": [
    {
     "name": "stdout",
     "output_type": "stream",
     "text": [
      "0.9857888924513231\n"
     ]
    },
    {
     "data": {
      "text/html": [
       "<div>\n",
       "<style scoped>\n",
       "    .dataframe tbody tr th:only-of-type {\n",
       "        vertical-align: middle;\n",
       "    }\n",
       "\n",
       "    .dataframe tbody tr th {\n",
       "        vertical-align: top;\n",
       "    }\n",
       "\n",
       "    .dataframe thead th {\n",
       "        text-align: right;\n",
       "    }\n",
       "</style>\n",
       "<table border=\"1\" class=\"dataframe\">\n",
       "  <thead>\n",
       "    <tr style=\"text-align: right;\">\n",
       "      <th></th>\n",
       "      <th>sites</th>\n",
       "      <th>values</th>\n",
       "    </tr>\n",
       "  </thead>\n",
       "  <tbody>\n",
       "    <tr>\n",
       "      <th>0</th>\n",
       "      <td>[0]</td>\n",
       "      <td>-0.209335</td>\n",
       "    </tr>\n",
       "    <tr>\n",
       "      <th>1</th>\n",
       "      <td>[1]</td>\n",
       "      <td>0.162319</td>\n",
       "    </tr>\n",
       "    <tr>\n",
       "      <th>2</th>\n",
       "      <td>[2]</td>\n",
       "      <td>0.255879</td>\n",
       "    </tr>\n",
       "    <tr>\n",
       "      <th>3</th>\n",
       "      <td>[3]</td>\n",
       "      <td>-0.072213</td>\n",
       "    </tr>\n",
       "    <tr>\n",
       "      <th>4</th>\n",
       "      <td>[4]</td>\n",
       "      <td>-0.138244</td>\n",
       "    </tr>\n",
       "    <tr>\n",
       "      <th>5</th>\n",
       "      <td>[5]</td>\n",
       "      <td>-0.147016</td>\n",
       "    </tr>\n",
       "    <tr>\n",
       "      <th>6</th>\n",
       "      <td>[1, 2]</td>\n",
       "      <td>-0.025004</td>\n",
       "    </tr>\n",
       "    <tr>\n",
       "      <th>7</th>\n",
       "      <td>[1, 3]</td>\n",
       "      <td>-0.024912</td>\n",
       "    </tr>\n",
       "    <tr>\n",
       "      <th>8</th>\n",
       "      <td>[1, 4]</td>\n",
       "      <td>-0.017469</td>\n",
       "    </tr>\n",
       "    <tr>\n",
       "      <th>9</th>\n",
       "      <td>[1, 5]</td>\n",
       "      <td>-0.024729</td>\n",
       "    </tr>\n",
       "    <tr>\n",
       "      <th>10</th>\n",
       "      <td>[2, 3]</td>\n",
       "      <td>-0.026253</td>\n",
       "    </tr>\n",
       "    <tr>\n",
       "      <th>11</th>\n",
       "      <td>[2, 4]</td>\n",
       "      <td>-0.018502</td>\n",
       "    </tr>\n",
       "    <tr>\n",
       "      <th>12</th>\n",
       "      <td>[2, 5]</td>\n",
       "      <td>-0.026063</td>\n",
       "    </tr>\n",
       "    <tr>\n",
       "      <th>13</th>\n",
       "      <td>[3, 4]</td>\n",
       "      <td>-0.018429</td>\n",
       "    </tr>\n",
       "    <tr>\n",
       "      <th>14</th>\n",
       "      <td>[3, 5]</td>\n",
       "      <td>-0.025969</td>\n",
       "    </tr>\n",
       "    <tr>\n",
       "      <th>15</th>\n",
       "      <td>[4, 5]</td>\n",
       "      <td>-0.018282</td>\n",
       "    </tr>\n",
       "    <tr>\n",
       "      <th>16</th>\n",
       "      <td>[1, 2, 3]</td>\n",
       "      <td>-0.024899</td>\n",
       "    </tr>\n",
       "    <tr>\n",
       "      <th>17</th>\n",
       "      <td>[1, 2, 4]</td>\n",
       "      <td>-0.017459</td>\n",
       "    </tr>\n",
       "    <tr>\n",
       "      <th>18</th>\n",
       "      <td>[1, 2, 5]</td>\n",
       "      <td>-0.024716</td>\n",
       "    </tr>\n",
       "    <tr>\n",
       "      <th>19</th>\n",
       "      <td>[1, 3, 4]</td>\n",
       "      <td>-0.017389</td>\n",
       "    </tr>\n",
       "    <tr>\n",
       "      <th>20</th>\n",
       "      <td>[1, 3, 5]</td>\n",
       "      <td>-0.024625</td>\n",
       "    </tr>\n",
       "    <tr>\n",
       "      <th>21</th>\n",
       "      <td>[1, 4, 5]</td>\n",
       "      <td>-0.017248</td>\n",
       "    </tr>\n",
       "    <tr>\n",
       "      <th>22</th>\n",
       "      <td>[2, 3, 4]</td>\n",
       "      <td>-0.018418</td>\n",
       "    </tr>\n",
       "    <tr>\n",
       "      <th>23</th>\n",
       "      <td>[2, 3, 5]</td>\n",
       "      <td>-0.025955</td>\n",
       "    </tr>\n",
       "    <tr>\n",
       "      <th>24</th>\n",
       "      <td>[2, 4, 5]</td>\n",
       "      <td>-0.018272</td>\n",
       "    </tr>\n",
       "    <tr>\n",
       "      <th>25</th>\n",
       "      <td>[3, 4, 5]</td>\n",
       "      <td>-0.018199</td>\n",
       "    </tr>\n",
       "  </tbody>\n",
       "</table>\n",
       "</div>"
      ],
      "text/plain": [
       "        sites    values\n",
       "0         [0] -0.209335\n",
       "1         [1]  0.162319\n",
       "2         [2]  0.255879\n",
       "3         [3] -0.072213\n",
       "4         [4] -0.138244\n",
       "5         [5] -0.147016\n",
       "6      [1, 2] -0.025004\n",
       "7      [1, 3] -0.024912\n",
       "8      [1, 4] -0.017469\n",
       "9      [1, 5] -0.024729\n",
       "10     [2, 3] -0.026253\n",
       "11     [2, 4] -0.018502\n",
       "12     [2, 5] -0.026063\n",
       "13     [3, 4] -0.018429\n",
       "14     [3, 5] -0.025969\n",
       "15     [4, 5] -0.018282\n",
       "16  [1, 2, 3] -0.024899\n",
       "17  [1, 2, 4] -0.017459\n",
       "18  [1, 2, 5] -0.024716\n",
       "19  [1, 3, 4] -0.017389\n",
       "20  [1, 3, 5] -0.024625\n",
       "21  [1, 4, 5] -0.017248\n",
       "22  [2, 3, 4] -0.018418\n",
       "23  [2, 3, 5] -0.025955\n",
       "24  [2, 4, 5] -0.018272\n",
       "25  [3, 4, 5] -0.018199"
      ]
     },
     "execution_count": 211,
     "metadata": {},
     "output_type": "execute_result"
    }
   ],
   "source": [
    "m = EpistasisLinearRegression(order=3, model_type='global')\n",
    "m.add_gpm(gpm)\n",
    "m.fit()\n",
    "print(m.score())\n",
    "\n",
    "m.epistasis.data"
   ]
  },
  {
   "cell_type": "code",
   "execution_count": 213,
   "metadata": {},
   "outputs": [
    {
     "data": {
      "text/plain": [
       "(<Figure size 288x360 with 2 Axes>,\n",
       " [<matplotlib.axes._subplots.AxesSubplot at 0x1a2038c278>,\n",
       "  <matplotlib.axes._subplots.AxesSubplot at 0x1a203b4b38>])"
      ]
     },
     "execution_count": 213,
     "metadata": {},
     "output_type": "execute_result"
    },
    {
     "data": {
      "image/png": "[encoded data removed]",
      "text/plain": [
       "<Figure size 288x360 with 2 Axes>"
      ]
     },
     "metadata": {},
     "output_type": "display_data"
    }
   ],
   "source": [
    "plot_coefs(m, figsize=(4,5))"
   ]
  },
  {
   "cell_type": "markdown",
   "metadata": {},
   "source": [
    "## Fit an ensemble model."
   ]
  },
  {
   "cell_type": "code",
   "execution_count": 204,
   "metadata": {},
   "outputs": [],
   "source": [
    "from epistasis.models.ensemble import EpistasisEnsembleRegression"
   ]
  },
  {
   "cell_type": "code",
   "execution_count": 198,
   "metadata": {},
   "outputs": [
    {
     "data": {
      "text/plain": [
       "EpistasisEnsembleRegression(nstates=4, order=1)"
      ]
     },
     "execution_count": 198,
     "metadata": {},
     "output_type": "execute_result"
    }
   ],
   "source": [
    "m = EpistasisEnsembleRegression(nstates=4)\n",
    "m.add_gpm(gpm)\n",
    "m.fit()"
   ]
  },
  {
   "cell_type": "code",
   "execution_count": 199,
   "metadata": {},
   "outputs": [
    {
     "data": {
      "text/plain": [
       "0.9809552184815908"
      ]
     },
     "execution_count": 199,
     "metadata": {},
     "output_type": "execute_result"
    }
   ],
   "source": [
    "m.score()"
   ]
  }
 ],
 "metadata": {
  "kernelspec": {
   "display_name": "omnipotent (Python 3.6)",
   "language": "python",
   "name": "omnipotent"
  },
  "language_info": {
   "codemirror_mode": {
    "name": "ipython",
    "version": 3
   },
   "file_extension": ".py",
   "mimetype": "text/x-python",
   "name": "python",
   "nbconvert_exporter": "python",
   "pygments_lexer": "ipython3",
   "version": "3.6.5"
  }
 },
 "nbformat": 4,
 "nbformat_minor": 2
}
